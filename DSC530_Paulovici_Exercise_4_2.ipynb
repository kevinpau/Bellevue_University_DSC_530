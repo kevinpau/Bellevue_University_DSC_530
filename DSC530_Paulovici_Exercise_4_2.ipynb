{
 "cells": [
  {
   "cell_type": "markdown",
   "metadata": {},
   "source": [
    " # Week 4: Exercise 4.2\n",
    " File: DSC530_Paulovici_Exercise_4.2.py (.ipynb)<br>\n",
    " Name: Kevin Paulovici<br>\n",
    " Date: 9/22/2019<br>\n",
    " Course: DSC 530 Data Exploration and Analysis<br>\n",
    " Assignment: Chapter 3: 3.1, 3.2 & Chapter 4: 4.1, 4.2"
   ]
  },
  {
   "cell_type": "code",
   "execution_count": 1,
   "metadata": {},
   "outputs": [],
   "source": [
    "# imports\n",
    "import numpy as np\n",
    "import pandas as pd\n",
    "import matplotlib.pyplot as plt\n",
    "from empyrical_dist import Pmf\n",
    "from empyrical_dist import Cdf\n",
    "import nsfg\n",
    "import thinkstats2\n"
   ]
  },
  {
   "cell_type": "markdown",
   "metadata": {},
   "source": [
    " ## Chapter 3"
   ]
  },
  {
   "cell_type": "markdown",
   "metadata": {},
   "source": [
    " ### Exercise 3.1\n",
    " Something like the class size paradox appears if you survey children and ask how many children are in their family. Families with many children are more likely to appear in your sample, and families with no children have no chance to be in the sample.\n",
    "\n",
    " Use the NSFG respondent variable `numkdhh` to construct the actual distribution for the number of children under 18 in the respondents' households.\n",
    "\n",
    " Now compute the biased distribution we would see if we surveyed the children and asked them how many children under 18 (including themselves) are in their household.\n",
    "\n",
    " Plot the actual and biased distributions, and compute their means."
   ]
  },
  {
   "cell_type": "markdown",
   "metadata": {},
   "source": [
    " ### Get the actual (numkdhh) data"
   ]
  },
  {
   "cell_type": "code",
   "execution_count": 2,
   "metadata": {},
   "outputs": [
    {
     "data": {
      "text/html": [
       "<div>\n",
       "<style scoped>\n",
       "    .dataframe tbody tr th:only-of-type {\n",
       "        vertical-align: middle;\n",
       "    }\n",
       "\n",
       "    .dataframe tbody tr th {\n",
       "        vertical-align: top;\n",
       "    }\n",
       "\n",
       "    .dataframe thead th {\n",
       "        text-align: right;\n",
       "    }\n",
       "</style>\n",
       "<table border=\"1\" class=\"dataframe\">\n",
       "  <thead>\n",
       "    <tr style=\"text-align: right;\">\n",
       "      <th></th>\n",
       "      <th>probs</th>\n",
       "    </tr>\n",
       "  </thead>\n",
       "  <tbody>\n",
       "    <tr>\n",
       "      <th>0</th>\n",
       "      <td>0.466178</td>\n",
       "    </tr>\n",
       "    <tr>\n",
       "      <th>1</th>\n",
       "      <td>0.214052</td>\n",
       "    </tr>\n",
       "    <tr>\n",
       "      <th>2</th>\n",
       "      <td>0.196258</td>\n",
       "    </tr>\n",
       "    <tr>\n",
       "      <th>3</th>\n",
       "      <td>0.087139</td>\n",
       "    </tr>\n",
       "    <tr>\n",
       "      <th>4</th>\n",
       "      <td>0.025644</td>\n",
       "    </tr>\n",
       "    <tr>\n",
       "      <th>5</th>\n",
       "      <td>0.010729</td>\n",
       "    </tr>\n",
       "  </tbody>\n",
       "</table>\n",
       "</div>"
      ],
      "text/plain": [
       "0    0.466178\n",
       "1    0.214052\n",
       "2    0.196258\n",
       "3    0.087139\n",
       "4    0.025644\n",
       "5    0.010729\n",
       "Name: numkdhh, dtype: float64"
      ]
     },
     "execution_count": 2,
     "metadata": {},
     "output_type": "execute_result"
    }
   ],
   "source": [
    "# read in the NSFG data\n",
    "resp = nsfg.ReadFemResp()\n",
    "\n",
    "# select the numkdhh col for pmf\n",
    "pmf = Pmf.from_seq(resp.numkdhh)\n",
    "pmf\n"
   ]
  },
  {
   "cell_type": "markdown",
   "metadata": {},
   "source": [
    " ### Get the biased numkdhh data"
   ]
  },
  {
   "cell_type": "code",
   "execution_count": 3,
   "metadata": {},
   "outputs": [],
   "source": [
    "\"\"\" Function based off book but modified to fit the \n",
    "empyrical_dist library, which uses pandas methods\n",
    "\n",
    ".qs = index\n",
    ".ps = probabilities\n",
    "\"\"\"\n",
    "def BiasPmf(pmf):\n",
    "    new_pmf = pmf.copy()\n",
    "\n",
    "    for x, p in pmf.items():\n",
    "        new_pmf[x] = new_pmf.get(x, 0) * x\n",
    "        \n",
    "    new_pmf.normalize()\n",
    "    return new_pmf\n"
   ]
  },
  {
   "cell_type": "code",
   "execution_count": 4,
   "metadata": {},
   "outputs": [
    {
     "data": {
      "text/html": [
       "<div>\n",
       "<style scoped>\n",
       "    .dataframe tbody tr th:only-of-type {\n",
       "        vertical-align: middle;\n",
       "    }\n",
       "\n",
       "    .dataframe tbody tr th {\n",
       "        vertical-align: top;\n",
       "    }\n",
       "\n",
       "    .dataframe thead th {\n",
       "        text-align: right;\n",
       "    }\n",
       "</style>\n",
       "<table border=\"1\" class=\"dataframe\">\n",
       "  <thead>\n",
       "    <tr style=\"text-align: right;\">\n",
       "      <th></th>\n",
       "      <th>probs</th>\n",
       "    </tr>\n",
       "  </thead>\n",
       "  <tbody>\n",
       "    <tr>\n",
       "      <th>0</th>\n",
       "      <td>0.000000</td>\n",
       "    </tr>\n",
       "    <tr>\n",
       "      <th>1</th>\n",
       "      <td>0.208993</td>\n",
       "    </tr>\n",
       "    <tr>\n",
       "      <th>2</th>\n",
       "      <td>0.383240</td>\n",
       "    </tr>\n",
       "    <tr>\n",
       "      <th>3</th>\n",
       "      <td>0.255238</td>\n",
       "    </tr>\n",
       "    <tr>\n",
       "      <th>4</th>\n",
       "      <td>0.100153</td>\n",
       "    </tr>\n",
       "    <tr>\n",
       "      <th>5</th>\n",
       "      <td>0.052376</td>\n",
       "    </tr>\n",
       "  </tbody>\n",
       "</table>\n",
       "</div>"
      ],
      "text/plain": [
       "0    0.000000\n",
       "1    0.208993\n",
       "2    0.383240\n",
       "3    0.255238\n",
       "4    0.100153\n",
       "5    0.052376\n",
       "Name: numkdhh, dtype: float64"
      ]
     },
     "execution_count": 4,
     "metadata": {},
     "output_type": "execute_result"
    }
   ],
   "source": [
    "# set the biased data\n",
    "biased = BiasPmf(pmf)\n",
    "biased\n"
   ]
  },
  {
   "cell_type": "markdown",
   "metadata": {},
   "source": [
    " ### Plot the data"
   ]
  },
  {
   "cell_type": "code",
   "execution_count": 5,
   "metadata": {},
   "outputs": [
    {
     "data": {
      "text/plain": [
       "Text(0,0.5,'PMF')"
      ]
     },
     "execution_count": 5,
     "metadata": {},
     "output_type": "execute_result"
    },
    {
     "data": {
      "image/png": "[encoded data removed]",
      "text/plain": [
       "<Figure size 432x288 with 1 Axes>"
      ]
     },
     "metadata": {},
     "output_type": "display_data"
    }
   ],
   "source": [
    "# plot the PMF data \n",
    "plt.style.use(\"ggplot\")\n",
    "plt.step(pmf.qs, pmf.ps, label=\"Actual (numkdhh)\")\n",
    "plt.step(biased.qs, biased.ps, label=\"Biased (numkdhh)\")\n",
    "\n",
    "# add labels\n",
    "plt.title(\"PMF of Children\")\n",
    "plt.legend()\n",
    "plt.xlabel(\"Number of children\")\n",
    "plt.ylabel(\"PMF\")\n"
   ]
  },
  {
   "cell_type": "markdown",
   "metadata": {},
   "source": [
    " ### Get the means()"
   ]
  },
  {
   "cell_type": "code",
   "execution_count": 6,
   "metadata": {},
   "outputs": [
    {
     "name": "stdout",
     "output_type": "stream",
     "text": [
      "The actual data's mean is: 1.02\n",
      "The biased data's mean is: 2.40\n"
     ]
    }
   ],
   "source": [
    "print(\"The actual data's mean is: {:.2f}\".format(pmf.mean()))\n",
    "print(\"The biased data's mean is: {:.2f}\".format(biased.mean()))\n"
   ]
  },
  {
   "cell_type": "markdown",
   "metadata": {},
   "source": [
    " ### Exercise 3.2"
   ]
  },
  {
   "cell_type": "markdown",
   "metadata": {},
   "source": [
    " ### Get book values to compare mean and var"
   ]
  },
  {
   "cell_type": "code",
   "execution_count": 7,
   "metadata": {},
   "outputs": [
    {
     "name": "stdout",
     "output_type": "stream",
     "text": [
      "The mean from the Pmf function is 1.02\n",
      "The var from the Pmf function is 1.41\n"
     ]
    }
   ],
   "source": [
    "book_pmf = thinkstats2.Pmf(resp.numkdhh)\n",
    "print(\"The mean from the Pmf function is {:.2f}\".format(book_pmf.Mean()))\n",
    "print(\"The var from the Pmf function is {:.2f}\".format(book_pmf.Var()))\n"
   ]
  },
  {
   "cell_type": "code",
   "execution_count": 8,
   "metadata": {},
   "outputs": [],
   "source": [
    "# create mean function\n",
    "def PmfMean(pmf):\n",
    "    \"\"\" Function takes a pmf and computes the mean.\n",
    "\n",
    "    @param: pmf (pmf obj (dict)) - pmf series\n",
    "\n",
    "    returns:\n",
    "    @param: mean (float) - mean of pmf\n",
    "    \"\"\"\n",
    "    mean = 0.0\n",
    "    mean = sum(p * x for x, p in pmf.d.items())\n",
    "\n",
    "    return mean\n",
    "\n",
    "# create var function\n",
    "def PmfVar(pmf):\n",
    "    \"\"\" Function takes a pmf and computes the variance.\n",
    "\n",
    "    @param: pmf (pmf obj (dict)) - pmf series\n",
    "\n",
    "    returns:\n",
    "    @param: var (float) - variance of pmf\n",
    "    \"\"\"\n",
    "    mean = PmfMean(pmf)\n",
    "    var = 0\n",
    "    var = sum(p * (x - mean)**2 for x, p in pmf.d.items())\n",
    "\n",
    "    return var\n",
    "\n"
   ]
  },
  {
   "cell_type": "code",
   "execution_count": 9,
   "metadata": {},
   "outputs": [
    {
     "name": "stdout",
     "output_type": "stream",
     "text": [
      "The mean from the PmfMean function is 1.02\n",
      "The var from the PmfVar function is 1.41\n"
     ]
    }
   ],
   "source": [
    "# check PmfMean and PmfVar\n",
    "print(\"The mean from the PmfMean function is {:.2f}\".format(PmfMean(book_pmf)))\n",
    "print(\"The var from the PmfVar function is {:.2f}\".format(PmfVar(book_pmf)))\n",
    "\n"
   ]
  },
  {
   "cell_type": "markdown",
   "metadata": {},
   "source": [
    " ## Chapter 4"
   ]
  },
  {
   "cell_type": "markdown",
   "metadata": {},
   "source": [
    " ### Exercise 4.1\n",
    " How much did you weigh at birth? If you don’t know, call your mother or someone else who knows. Using the NSFG data (all live births), compute the distribution of birth weights and use it to find your percentile rank. If you were a first baby, find your percentile rank in the distribution for first babies. Otherwise use the distribution for others. If you are in the 90th percentile or higher, call your mother back and apologize."
   ]
  },
  {
   "cell_type": "code",
   "execution_count": 10,
   "metadata": {},
   "outputs": [],
   "source": [
    "# read in the other babies data\n",
    "preg = nsfg.ReadFemPreg()\n",
    "live = preg[preg.outcome == 1]\n",
    "others = live[live.birthord != 1]\n",
    "others_wgt = others.totalwgt_lb\n"
   ]
  },
  {
   "cell_type": "code",
   "execution_count": 11,
   "metadata": {},
   "outputs": [
    {
     "name": "stdout",
     "output_type": "stream",
     "text": [
      "My birth weight percentile rank is: 91.87\n"
     ]
    }
   ],
   "source": [
    "# get the others cdf - use book method of cdf\n",
    "others_wgt_cdf = thinkstats2.Cdf(others_wgt, label=\"Other\")\n",
    "\n",
    "# get the recentile rank \n",
    "pRank = others_wgt_cdf.PercentileRank(9)\n",
    "\n",
    "print(\"My birth weight percentile rank is: {:.2f}\".format(pRank)) #sorryMom\n",
    "\n"
   ]
  },
  {
   "cell_type": "markdown",
   "metadata": {},
   "source": [
    " ### Exercise 4.2\n",
    " The numbers generated by `numpy.random.random` are supposed to be uniform between 0 and 1; that is, every value in the range should have the same probability.\n",
    "\n",
    " Generate 1000 numbers from `numpy.random.random` and plot their PMF.  What goes wrong?\n",
    "\n",
    " Now plot the CDF. Is the distribution uniform?"
   ]
  },
  {
   "cell_type": "code",
   "execution_count": 12,
   "metadata": {},
   "outputs": [
    {
     "data": {
      "text/plain": [
       "Text(0,0.5,'PMF')"
      ]
     },
     "execution_count": 12,
     "metadata": {},
     "output_type": "execute_result"
    },
    {
     "data": {
      "image/png": "[encoded data removed]",
      "text/plain": [
       "<Figure size 432x288 with 1 Axes>"
      ]
     },
     "metadata": {},
     "output_type": "display_data"
    }
   ],
   "source": [
    "# create 1000 random numbers\n",
    "random_sample = np.random.random(1000)\n",
    "\n",
    "# create pmf of random_sample  - use empyrical_dist lib\n",
    "random_pmf = Pmf.from_seq(random_sample)\n",
    "\n",
    "# plot pmf\n",
    "plt.style.use(\"ggplot\")\n",
    "plt.step(random_pmf.qs, random_pmf.ps, label=\"Random Sample\")\n",
    "\n",
    "# add labels\n",
    "plt.title(\"PMF of 1000 Random Numbers\")\n",
    "plt.legend()\n",
    "plt.xlabel(\"Random Numbers\")\n",
    "plt.ylabel(\"PMF\")\n"
   ]
  },
  {
   "cell_type": "code",
   "execution_count": 13,
   "metadata": {},
   "outputs": [
    {
     "data": {
      "text/plain": [
       "Text(0.5,1,'CDF of 1000 Random Numbers')"
      ]
     },
     "execution_count": 13,
     "metadata": {},
     "output_type": "execute_result"
    },
    {
     "data": {
      "image/png": "[encoded data removed]",
      "text/plain": [
       "<Figure size 432x288 with 1 Axes>"
      ]
     },
     "metadata": {},
     "output_type": "display_data"
    }
   ],
   "source": [
    "# create cdf of random_sample - use empyrical_dist lib\n",
    "random_cdf = Cdf.from_seq(random_sample)\n",
    "\n",
    "# plot cdf\n",
    "plt.style.use(\"ggplot\")\n",
    "plt.step(random_cdf.qs, random_cdf.ps, label=\"Random Sample\")\n",
    "\n",
    "# add labels\n",
    "plt.legend()\n",
    "plt.xlabel(\"Random Numbers\")\n",
    "plt.ylabel(\"CDF\")\n",
    "plt.title(\"CDF of 1000 Random Numbers\")\n",
    "\n"
   ]
  },
  {
   "cell_type": "markdown",
   "metadata": {},
   "source": [
    "### Summary\n",
    "The np.random.random gives a uniform distribution of numbers."
   ]
  },
  {
   "cell_type": "code",
   "execution_count": null,
   "metadata": {},
   "outputs": [],
   "source": []
  }
 ],
 "metadata": {
  "file_extension": ".py",
  "kernelspec": {
   "display_name": "Python 3",
   "language": "python",
   "name": "python3"
  },
  "language_info": {
   "codemirror_mode": {
    "name": "ipython",
    "version": 3
   },
   "file_extension": ".py",
   "mimetype": "text/x-python",
   "name": "python",
   "nbconvert_exporter": "python",
   "pygments_lexer": "ipython3",
   "version": "3.6.5"
  },
  "mimetype": "text/x-python",
  "name": "python",
  "npconvert_exporter": "python",
  "pygments_lexer": "ipython3",
  "version": 3
 },
 "nbformat": 4,
 "nbformat_minor": 2
}
