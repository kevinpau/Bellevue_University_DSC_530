{
 "cells": [
  {
   "cell_type": "markdown",
   "metadata": {
    "collapsed": true
   },
   "source": [
    "# Assignment 2.1 "
   ]
  },
  {
   "cell_type": "code",
   "execution_count": 1,
   "metadata": {},
   "outputs": [],
   "source": [
    "\"\"\"\n",
    "File: DSC_530_Paulovici_excercise_2_1.py\n",
    "Name: Kevin Paulovici\n",
    "Date: 9/4/2019\n",
    "Course: DSC 530 Data Exploration and Analysis\n",
    "Assignment: Exercise 2.1\n",
    "Description: Python refresher to prepare for EDA\n",
    "\"\"\"\n",
    "import random"
   ]
  },
  {
   "cell_type": "code",
   "execution_count": 2,
   "metadata": {},
   "outputs": [
    {
     "name": "stdout",
     "output_type": "stream",
     "text": [
      "1) Hello World! I wonder why that is always the default coding text to start with.\n"
     ]
    }
   ],
   "source": [
    "\"\"\" 1) Display the text “Hello World! I wonder why that is always the\n",
    " default coding text to start with” \"\"\"\n",
    "\n",
    "hello_world = \"Hello World! I wonder why that is always the default coding text to start with.\"\n",
    "print(\"1) {}\".format(hello_world))"
   ]
  },
  {
   "cell_type": "code",
   "execution_count": 3,
   "metadata": {},
   "outputs": [
    {
     "name": "stdout",
     "output_type": "stream",
     "text": [
      "2) The sum of 86 + 24 is: 110\n"
     ]
    }
   ],
   "source": [
    "\"\"\" 2) Add two numbers together \n",
    "\n",
    "two random numbers are generated from 1-100\"\"\"\n",
    "\n",
    "num1 = int(random.uniform(1, 100))\n",
    "num2 = int(random.uniform(1, 100))\n",
    "add = num1 + num2\n",
    "\n",
    "print(\"2) The sum of {} + {} is: {}\".format(num1, num2, add))"
   ]
  },
  {
   "cell_type": "code",
   "execution_count": 4,
   "metadata": {},
   "outputs": [
    {
     "name": "stdout",
     "output_type": "stream",
     "text": [
      "3) 91 minus 41 is: 50\n"
     ]
    }
   ],
   "source": [
    "\"\"\" 3) Subtract a number from another number \n",
    "\n",
    "two random numbers are generated from 1-100, larger - smaller\"\"\"\n",
    "\n",
    "num3 = int(random.uniform(1, 100))\n",
    "num4 = int(random.uniform(1, 100))\n",
    "sub = max(num3, num4) - min(num3, num4)\n",
    "\n",
    "print(\"3) {} minus {} is: {}\".format(max(num3, num4), min(num3, num4), sub))"
   ]
  },
  {
   "cell_type": "code",
   "execution_count": 5,
   "metadata": {},
   "outputs": [
    {
     "name": "stdout",
     "output_type": "stream",
     "text": [
      "4) 78 * 6 is: 468\n"
     ]
    }
   ],
   "source": [
    "\"\"\" 4) Multiply two numbers \n",
    "\n",
    "two random numbers are generated from 1-100 and multiplied\"\"\"\n",
    "\n",
    "num5 = int(random.uniform(1, 100))\n",
    "num6 = int(random.uniform(1, 100))\n",
    "mult = num5 * num6\n",
    "\n",
    "print(\"4) {} * {} is: {}\".format(num5, num6, mult))"
   ]
  },
  {
   "cell_type": "code",
   "execution_count": 6,
   "metadata": {},
   "outputs": [
    {
     "name": "stdout",
     "output_type": "stream",
     "text": [
      "5) 36 / 49 is: 0.73\n"
     ]
    }
   ],
   "source": [
    "\"\"\" 5) Divide between two numbers\n",
    "\n",
    " two random numbers are generated from 1-100 and divided (2 sig figs)\"\"\"\n",
    "\n",
    "num7 = int(random.uniform(1, 100))\n",
    "num8 = int(random.uniform(1, 100))\n",
    "div = num7 / num8\n",
    "\n",
    "print(\"5) {} / {} is: {:.2f}\".format(num7, num8, div))"
   ]
  },
  {
   "cell_type": "code",
   "execution_count": 8,
   "metadata": {},
   "outputs": [
    {
     "name": "stdout",
     "output_type": "stream",
     "text": [
      "6) str1 is: 'I'll have an order of ' and str2 is: 'Spam, Spam, Spam, eggs and Spam', \n   concatenating them makes: 'I'll have an order of Spam, Spam, Spam, eggs and Spam'.\n"
     ]
    }
   ],
   "source": [
    "\"\"\" 6) Concatenate two strings together (any words) \"\"\"\n",
    "\n",
    "str1 = \"I'll have an order of \"\n",
    "str2 = \"Spam, Spam, Spam, eggs and Spam\"\n",
    "\n",
    "print(\"6) str1 is: '{}' and str2 is: '{}', \\n   concatenating them makes: '{}'.\".format\n",
    "      (str1, str2, str1 + str2))"
   ]
  },
  {
   "cell_type": "code",
   "execution_count": 9,
   "metadata": {},
   "outputs": [
    {
     "name": "stdout",
     "output_type": "stream",
     "text": [
      "7) The rand_list consists of: [86, 24, 41, 91], which is of type <class 'list'>.\n"
     ]
    }
   ],
   "source": [
    "\"\"\" 7) Create a list of 4 items (can be strings, numbers, both) \"\"\"\n",
    "\n",
    "rand_list = [num1, num2, num3, num4]\n",
    "\n",
    "print(\"7) The rand_list consists of: {}, which is of type {}.\".format(rand_list, type(rand_list)))"
   ]
  },
  {
   "cell_type": "code",
   "execution_count": 10,
   "metadata": {},
   "outputs": [
    {
     "name": "stdout",
     "output_type": "stream",
     "text": [
      "8) The rand_list now consists of: [86, 24, 41, 91, 78], which is of type <class 'list'>.\n"
     ]
    }
   ],
   "source": [
    "\"\"\" 8) Append an item to your list (again, can be a string, number) \"\"\"\n",
    "\n",
    "rand_list.append(num5)\n",
    "\n",
    "print(\"8) The rand_list now consists of: {}, which is of type {}.\".format(rand_list, type(rand_list)))"
   ]
  },
  {
   "cell_type": "code",
   "execution_count": 11,
   "metadata": {},
   "outputs": [
    {
     "name": "stdout",
     "output_type": "stream",
     "text": [
      "9) The rand_tuple consists of: (6, 36, 49, 86) which is of type <class 'tuple'>.\n"
     ]
    }
   ],
   "source": [
    "\"\"\" 9) Create a tuple with 4 items (can be strings, numbers, both) \"\"\"\n",
    "\n",
    "rand_tuple = (num6, num7, num8, num1)\n",
    "\n",
    "print(\"9) The rand_tuple consists of: {} which is of type {}.\".format(rand_tuple, type(rand_tuple)))\n"
   ]
  },
  {
   "cell_type": "code",
   "execution_count": null,
   "metadata": {},
   "outputs": [],
   "source": []
  }
 ],
 "metadata": {
  "kernelspec": {
   "display_name": "Python 2",
   "language": "python",
   "name": "python2"
  },
  "language_info": {
   "codemirror_mode": {
    "name": "ipython",
    "version": 2
   },
   "file_extension": ".py",
   "mimetype": "text/x-python",
   "name": "python",
   "nbconvert_exporter": "python",
   "pygments_lexer": "ipython2",
   "version": "2.7.6"
  }
 },
 "nbformat": 4,
 "nbformat_minor": 0
}
