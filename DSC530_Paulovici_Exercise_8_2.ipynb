{
 "cells": [
  {
   "cell_type": "markdown",
   "metadata": {},
   "source": [
    " # Week 8: Exercise 8.2\n",
    " File: DSC530_Paulovici_Exercise_8.2.py (.ipynb)<br>\n",
    " Name: Kevin Paulovici<br>\n",
    " Date: 10/20/2019<br>\n",
    " Course: DSC 530 Data Exploration and Analysis<br>\n",
    " Assignment: Chapter 9: 9.1 & Chapter 10: 10.1"
   ]
  },
  {
   "cell_type": "code",
   "execution_count": 1,
   "metadata": {},
   "outputs": [],
   "source": [
    "import numpy as np\n",
    "import pandas as pd\n",
    "\n",
    "import first\n",
    "import hypothesis\n",
    "import thinkstats2\n",
    "\n",
    "import scatter\n",
    "import brfss\n",
    "import thinkplot\n"
   ]
  },
  {
   "cell_type": "markdown",
   "metadata": {},
   "source": [
    " ## Chapter 9"
   ]
  },
  {
   "cell_type": "markdown",
   "metadata": {},
   "source": [
    " ### Exercise 9.1\n",
    " As sample size increases, the power of a hypothesis test increases, which means it is more likely to be positive if the effect is real. Conversely, as sample size decreases, the test is less likely to be positive even if the effect is real. <br> <br>\n",
    " To investigate this behavior, run the tests in this chapter with different subsets of the NSFG data. You can use thinkstats2.SampleRows to select a random subset of the rows in a DataFrame. <br> <br>\n",
    " What happens to the p-values of these tests as sample size decreases? What is the smallest sample size that yields a positive test?"
   ]
  },
  {
   "cell_type": "code",
   "execution_count": 2,
   "metadata": {},
   "outputs": [],
   "source": [
    "# set up functions to run the samples\n",
    "class DiffMeans(hypothesis.DiffMeansPermute):\n",
    "    \"\"\" Test a diff in means \"\"\"\n",
    "\n",
    "    def RunModel(self):\n",
    "        \"\"\" Run model for null hypothesis \"\"\"\n",
    "\n",
    "        g1 = np.random.choice(self.pool, self.n, replace=True)\n",
    "        g2 = np.random.choice(self.pool, self.m, replace=True)\n",
    "\n",
    "        return g1, g2\n",
    "\n",
    "def RunSampleTest(first, others):\n",
    "    \"\"\" Test diff in mean \n",
    "    \n",
    "    @param: first (dataframe) - first babies data\n",
    "    @param: first (dataframe) - other babies data\n",
    "    \"\"\"\n",
    "    # test for baby length\n",
    "    data = firsts.prglngth.values, others.prglngth.values\n",
    "    ht = DiffMeans(data)\n",
    "    pVal = ht.PValue(iters=10000)\n",
    "\n",
    "    print(\"\\nMeans permute pregnancy length\")\n",
    "    print(\"P Value: {:.3f}\".format(pVal))\n",
    "    print(\"Actual: {:.3f}\".format(ht.actual))\n",
    "    print(\"T-test max: {:.3f}\".format(ht.MaxTestStat()))\n",
    "\n",
    "    # test for baby weight\n",
    "    data = (firsts.totalwgt_lb.dropna().values,\n",
    "            others.totalwgt_lb.dropna().values)\n",
    "    ht = hypothesis.DiffMeansPermute(data)\n",
    "    pVal = ht.PValue(iters=10000)\n",
    "    print(\"\\nMeans permute birthweight\")\n",
    "    print(\"P Value: {:.3f}\".format(pVal))\n",
    "    print(\"Actual: {:.3f}\".format(ht.actual))\n",
    "    print(\"T-test max: {:.3f}\".format(ht.MaxTestStat()))\n",
    "\n",
    "def RunTests(live, iters=1000):\n",
    "    \"\"\" Run tests from chap 9 \n",
    "\n",
    "    @param: live (datafram) - live births\n",
    "    @param: iters (int) - # of iterations \n",
    "    \"\"\"\n",
    "    n = len(live)\n",
    "    firsts = live[live.birthord == 1]\n",
    "    others = live[live.birthord != 1]\n",
    "\n",
    "    # compare pregnancy lengths\n",
    "    data = firsts.prglngth.values, others.prglngth.values\n",
    "    ht = hypothesis.DiffMeansPermute(data)\n",
    "    p1 = ht.PValue(iters=iters)\n",
    "\n",
    "    data = (firsts.totalwgt_lb.dropna().values,\n",
    "            others.totalwgt_lb.dropna().values)\n",
    "    ht = hypothesis.DiffMeansPermute(data)\n",
    "    p2 = ht.PValue(iters=iters)\n",
    "\n",
    "    # test correlation\n",
    "    live2 = live.dropna(subset=['agepreg', 'totalwgt_lb'])\n",
    "    data = live2.agepreg.values, live2.totalwgt_lb.values\n",
    "    ht = hypothesis.CorrelationPermute(data)\n",
    "    p3 = ht.PValue(iters=iters)\n",
    "\n",
    "    # compare pregnancy lengths (chi-squared)\n",
    "    data = firsts.prglngth.values, others.prglngth.values\n",
    "    ht = hypothesis.PregLengthTest(data)\n",
    "    p4 = ht.PValue(iters=iters)\n",
    "\n",
    "    print(\"{}\\t{:.3f}\\t{:.3f}\\t{:.3f}\\t{:.3f}\".format(n, p1, p2, p3, p4))\n"
   ]
  },
  {
   "cell_type": "code",
   "execution_count": 3,
   "metadata": {},
   "outputs": [
    {
     "name": "stdout",
     "output_type": "stream",
     "text": [
      "\n",
      "Means permute pregnancy length\n",
      "P Value: 0.167\n",
      "Actual: 0.078\n",
      "T-test max: 0.227\n",
      "\n",
      "Means permute birthweight\n",
      "P Value: 0.000\n",
      "Actual: 0.125\n",
      "T-test max: 0.112\n"
     ]
    }
   ],
   "source": [
    "# set the random generators\n",
    "thinkstats2.RandomSeed(18)\n",
    "\n",
    "# get the wght and length \n",
    "live, firsts, others = first.MakeFrames()\n",
    "RunSampleTest(first, others)\n"
   ]
  },
  {
   "cell_type": "code",
   "execution_count": 4,
   "metadata": {},
   "outputs": [
    {
     "name": "stdout",
     "output_type": "stream",
     "text": [
      "nval\t Test1\t  Test2\t  Test3\t  Test4\t\n",
      "9148\t0.156\t0.000\t0.000\t0.000\n",
      "4574\t0.025\t0.022\t0.000\t0.000\n",
      "2287\t0.037\t0.070\t0.001\t0.000\n",
      "1143\t0.703\t0.042\t0.797\t0.067\n",
      "571\t0.527\t0.001\t0.000\t0.347\n",
      "285\t0.959\t0.842\t0.350\t0.531\n",
      "142\t0.872\t0.488\t0.200\t0.063\n"
     ]
    }
   ],
   "source": [
    "# run the test\n",
    "n = len(live)\n",
    "print(\"nval\\t Test1\\t  Test2\\t  Test3\\t  Test4\\t\")\n",
    "for i in range(7):\n",
    "    sample = thinkstats2.SampleRows(live, n)\n",
    "    RunTests(sample)\n",
    "    n //= 2\n"
   ]
  },
  {
   "cell_type": "markdown",
   "metadata": {},
   "source": [
    " Generally we positive test become negative as the sample size decreases."
   ]
  },
  {
   "cell_type": "markdown",
   "metadata": {},
   "source": [
    " ## Chapter 10"
   ]
  },
  {
   "cell_type": "markdown",
   "metadata": {},
   "source": [
    " ### Exercise 10.1\n",
    " Using the data from the BRFSS, compute the linear least squares fit for log(weight) versus height. How would you best present the estimated parameters for a model like this where one of the variables is log-transformed? If you were trying to guess someone’s weight, how much would it help to know their height?\n",
    " <br> <br> Like the NSFG, the BRFSS oversamples some groups and provides a sampling weight for each respondent. In the BRFSS data, the variable name for these weights is totalwt. Use resampling, with and without weights, to estimate the mean height of respondents in the BRFSS, the standard error of the mean, and a 90% confidence interval. How much does correct weighting affect the estimates?"
   ]
  },
  {
   "cell_type": "code",
   "execution_count": 5,
   "metadata": {},
   "outputs": [],
   "source": [
    "# read in the brfss data\n",
    "data = brfss.ReadBrfss(nrows=None)\n",
    "data = data.dropna(subset=['htm3', 'wtkg2'])\n",
    "\n",
    "weights = data.wtkg2\n",
    "heights = data.htm3\n",
    "\n",
    "# get log weight\n",
    "logWeight = np.log10(weights)\n"
   ]
  },
  {
   "cell_type": "code",
   "execution_count": 6,
   "metadata": {},
   "outputs": [
    {
     "name": "stdout",
     "output_type": "stream",
     "text": [
      "intercept: 0.993 \n",
      " slope: 0.005\n"
     ]
    }
   ],
   "source": [
    "# Estimate intercept and slope\n",
    "inter, slope = thinkstats2.LeastSquares(heights, logWeight)\n",
    "\n",
    "print(\"intercept: {:.3f} \\n slope: {:.3f}\".format(inter, slope))\n"
   ]
  },
  {
   "cell_type": "code",
   "execution_count": 7,
   "metadata": {},
   "outputs": [
    {
     "data": {
      "image/png": "[encoded data removed]",
      "text/plain": [
       "<Figure size 432x288 with 1 Axes>"
      ]
     },
     "metadata": {},
     "output_type": "display_data"
    }
   ],
   "source": [
    "# show scatter plot of fitted line\n",
    "thinkplot.Scatter(heights, logWeight, alpha=0.01, s=5)\n",
    "fxs, fys = thinkstats2.FitLine(heights, inter, slope)\n",
    "thinkplot.Plot(fxs, fys, color='red')\n",
    "thinkplot.Config(xlabel='Height (cm)', ylabel='log10 weight (kg)')\n"
   ]
  },
  {
   "cell_type": "code",
   "execution_count": 8,
   "metadata": {},
   "outputs": [],
   "source": [
    "# get the residuals\n",
    "res = thinkstats2.Residuals(heights, logWeight, inter, slope)\n",
    "data['residual'] = res\n"
   ]
  },
  {
   "cell_type": "code",
   "execution_count": 9,
   "metadata": {},
   "outputs": [
    {
     "data": {
      "image/png": "[encoded data removed]",
      "text/plain": [
       "<Figure size 432x288 with 1 Axes>"
      ]
     },
     "metadata": {},
     "output_type": "display_data"
    }
   ],
   "source": [
    "# set up bins, indicies, and groups to calc mean and cdf\n",
    "bins = np.arange(130, 210, 5)\n",
    "indices = np.digitize(data.htm3, bins)\n",
    "groups = data.groupby(indices)\n",
    "\n",
    "means = [group.htm3.mean() for i, group in groups][1:-1]\n",
    "cdfs = [thinkstats2.Cdf(group.residual) for i, group in groups][1:-1]\n",
    "\n",
    "# plot the pencitles\n",
    "for p in [75, 50, 25]:\n",
    "    ys = [cdf.Percentile(p) for cdf in cdfs]\n",
    "    label = str(p) + 'th'\n",
    "    thinkplot.Plot(means, ys, label=label)\n",
    "\n",
    "thinkplot.Config(xlabel='height (cm)', ylabel='residual weight (kg)')\n"
   ]
  },
  {
   "cell_type": "code",
   "execution_count": 10,
   "metadata": {},
   "outputs": [
    {
     "name": "stdout",
     "output_type": "stream",
     "text": [
      "Correlation: 0.532\n",
      "Coefficent of determination: 0.283\n",
      "R^2 - rho^2: 0.000\n"
     ]
    }
   ],
   "source": [
    "# calculate correlation and coefficient of determination\n",
    "rho = thinkstats2.Corr(heights, logWeight)\n",
    "r2 = thinkstats2.CoefDetermination(logWeight, res)\n",
    "\n",
    "# check if R^2 = rho^2\n",
    "print(\"Correlation: {:.3f}\".format(rho))\n",
    "print(\"Coefficent of determination: {:.3f}\".format(r2)) \n",
    "\n",
    "print(\"R^2 - rho^2: {:.3f}\".format(rho**2 - r2))\n"
   ]
  },
  {
   "cell_type": "code",
   "execution_count": 11,
   "metadata": {},
   "outputs": [
    {
     "name": "stdout",
     "output_type": "stream",
     "text": [
      "Standard deviation w/o height: 0.103\n"
     ]
    }
   ],
   "source": [
    "# calc standard deviation (RMSE) of prediction w/o height\n",
    "std_ys = thinkstats2.Std(logWeight)\n",
    "print(\"Standard deviation w/o height: {:.3f}\".format(std_ys))\n"
   ]
  },
  {
   "cell_type": "code",
   "execution_count": 12,
   "metadata": {},
   "outputs": [
    {
     "name": "stdout",
     "output_type": "stream",
     "text": [
      "Standard deviation w/ height: 0.087\n"
     ]
    }
   ],
   "source": [
    "# calc standard deviation (RMSE) of prediction w/ height\n",
    "std_res = thinkstats2.Std(res)\n",
    "print(\"Standard deviation w/ height: {:.3f}\".format(std_res))\n",
    "\n"
   ]
  },
  {
   "cell_type": "code",
   "execution_count": 13,
   "metadata": {},
   "outputs": [
    {
     "name": "stdout",
     "output_type": "stream",
     "text": [
      "Impact: 0.153\n"
     ]
    }
   ],
   "source": [
    "# How does RMSE get impacted by height info\n",
    "print(\"Impact: {:.3f}\".format(1 - (std_res/std_ys)))\n"
   ]
  },
  {
   "cell_type": "code",
   "execution_count": 14,
   "metadata": {},
   "outputs": [],
   "source": [
    "# Resampling to compute inter and slope\n",
    "t = []\n",
    "for _ in range(100):\n",
    "    sample = thinkstats2.ResampleRows(data)\n",
    "    estimates = thinkstats2.LeastSquares(sample.htm3, np.log10(sample.wtkg2))\n",
    "    t.append(estimates)\n",
    "\n",
    "inters, slopes = zip(*t)\n"
   ]
  },
  {
   "cell_type": "code",
   "execution_count": 15,
   "metadata": {},
   "outputs": [
    {
     "data": {
      "text/plain": [
       "{'xscale': 'linear', 'yscale': 'linear'}"
      ]
     },
     "execution_count": 15,
     "metadata": {},
     "output_type": "execute_result"
    },
    {
     "data": {
      "image/png": "[encoded data removed]",
      "text/plain": [
       "<Figure size 432x288 with 1 Axes>"
      ]
     },
     "metadata": {},
     "output_type": "display_data"
    }
   ],
   "source": [
    "# Plot the sampling distribution of slope.\n",
    "cdf = thinkstats2.Cdf(slopes)\n",
    "thinkplot.Cdf(cdf)\n"
   ]
  },
  {
   "cell_type": "code",
   "execution_count": 16,
   "metadata": {},
   "outputs": [
    {
     "data": {
      "text/plain": [
       "0"
      ]
     },
     "execution_count": 16,
     "metadata": {},
     "output_type": "execute_result"
    }
   ],
   "source": [
    "# Compute the p-value of the slope.\n",
    "pvalue = cdf[0]\n",
    "pvalue\n"
   ]
  },
  {
   "cell_type": "code",
   "execution_count": 17,
   "metadata": {},
   "outputs": [
    {
     "data": {
      "text/plain": [
       "(0.005258099751410994, 0.005304748531528853)"
      ]
     },
     "execution_count": 17,
     "metadata": {},
     "output_type": "execute_result"
    }
   ],
   "source": [
    "# 90% confidence interval of slope\n",
    "ci = cdf.Percentile(5), cdf.Percentile(95)\n",
    "ci\n"
   ]
  },
  {
   "cell_type": "code",
   "execution_count": 18,
   "metadata": {},
   "outputs": [
    {
     "data": {
      "text/plain": [
       "0.0052810744138255105"
      ]
     },
     "execution_count": 18,
     "metadata": {},
     "output_type": "execute_result"
    }
   ],
   "source": [
    "# get the mean of the new sampling dist.\n",
    "mean = thinkstats2.Mean(slopes)\n",
    "mean\n"
   ]
  },
  {
   "cell_type": "code",
   "execution_count": 19,
   "metadata": {},
   "outputs": [
    {
     "data": {
      "text/plain": [
       "1.4197094551197431e-05"
      ]
     },
     "execution_count": 19,
     "metadata": {},
     "output_type": "execute_result"
    }
   ],
   "source": [
    "# Compute the standard deviation of the sampling distribution, which is the standard error.\n",
    "stderr = thinkstats2.Std(slopes)\n",
    "stderr\n"
   ]
  },
  {
   "cell_type": "code",
   "execution_count": 22,
   "metadata": {},
   "outputs": [],
   "source": [
    "# From ThinkStats\n",
    "# The following function takes a list of estimates and prints the mean, standard error, and 90% confidence interval.\n",
    "def Summarize(estimates, actual=None):\n",
    "    mean = thinkstats2.Mean(estimates)\n",
    "    stderr = thinkstats2.Std(estimates, mu=actual)\n",
    "    cdf = thinkstats2.Cdf(estimates)\n",
    "    ci = cdf.ConfidenceInterval(90)\n",
    "    print('mean: {:.3f} SE: {:.3f} CI: {}'.format(mean, stderr, ci))\n"
   ]
  },
  {
   "cell_type": "code",
   "execution_count": 23,
   "metadata": {},
   "outputs": [
    {
     "name": "stdout",
     "output_type": "stream",
     "text": [
      "mean: 168.955 SE: 0.017 CI: (168.9222599486651, 168.98246225671497)\n"
     ]
    }
   ],
   "source": [
    "# Resample rows without weights, compute mean height, and summarize results.\n",
    "estimates_unweighted = [thinkstats2.ResampleRows(data).htm3.mean() for _ in range(100)]\n",
    "Summarize(estimates_unweighted)\n"
   ]
  },
  {
   "cell_type": "code",
   "execution_count": 24,
   "metadata": {},
   "outputs": [],
   "source": [
    "# From ThinkStats\n",
    "def ResampleRowsWeighted(data, column='finalwgt'):\n",
    "    weights = data[column]\n",
    "    cdf = thinkstats2.Cdf(dict(weights))\n",
    "    indices = cdf.Sample(len(weights))\n",
    "    sample = data.loc[indices]\n",
    "    return sample\n"
   ]
  },
  {
   "cell_type": "code",
   "execution_count": null,
   "metadata": {},
   "outputs": [],
   "source": [
    "# Resample rows with weights.\n",
    "estimates_weighted = [ResampleRowsWeighted(data, 'finalwt').htm3.mean() for _ in range(100)]\n",
    "Summarize(estimates_weighted)"
   ]
  },
  {
   "cell_type": "code",
   "execution_count": null,
   "metadata": {},
   "outputs": [],
   "source": []
  }
 ],
 "metadata": {
  "file_extension": ".py",
  "kernelspec": {
   "display_name": "Python 3",
   "language": "python",
   "name": "python3"
  },
  "language_info": {
   "codemirror_mode": {
    "name": "ipython",
    "version": 3
   },
   "file_extension": ".py",
   "mimetype": "text/x-python",
   "name": "python",
   "nbconvert_exporter": "python",
   "pygments_lexer": "ipython3",
   "version": "3.6.5"
  },
  "mimetype": "text/x-python",
  "name": "python",
  "npconvert_exporter": "python",
  "pygments_lexer": "ipython3",
  "version": 3
 },
 "nbformat": 4,
 "nbformat_minor": 2
}
